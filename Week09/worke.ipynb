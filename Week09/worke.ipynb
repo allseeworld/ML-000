{
 "cells": [
  {
   "cell_type": "code",
   "execution_count": 1,
   "metadata": {},
   "outputs": [],
   "source": [
    "import pandas as pd\n",
    "import numpy as np\n",
    "from sklearn.model_selection import train_test_split\n",
    "from sklearn.metrics import mean_squared_error\n",
    "from sklearn.model_selection import GridSearchCV"
   ]
  },
  {
   "cell_type": "code",
   "execution_count": 2,
   "metadata": {},
   "outputs": [],
   "source": [
    "import lightgbm as lgb"
   ]
  },
  {
   "cell_type": "code",
   "execution_count": 3,
   "metadata": {},
   "outputs": [],
   "source": [
    "def train_model_pre(deal_data_func):\n",
    "    X_train,y_train = deal_data_func('train')\n",
    "#     X_train, X_test, y_train, y_test = train_test_split(x, y, test_size=0.2)\n",
    "    estimator = lgb.LGBMClassifier()\n",
    "    param_grid = {\n",
    "        'learning_rate': [0.01, 0.05,0.1],\n",
    "        'n_estimators': [20, 40, 60],\n",
    "        'num_leaves':[30,40]\n",
    "    }\n",
    "    gbm = GridSearchCV(estimator, param_grid)\n",
    "    model = gbm.fit(X_train, y_train)\n",
    "    print(model.best_params_)\n",
    "    print(model.best_score_)\n",
    "#     gbm = lgb.LGBMClassifier(num_leaves=31, learning_rate=0.05, n_estimators=20)\n",
    "#     model  = gbm.fit(X_train, y_train, eval_set=[(X_test, y_test.ravel() )], eval_metric='l1', early_stopping_rounds=5)\n",
    "    x_test,y_test = deal_data_func('test')\n",
    "    print('_*'*60)\n",
    "    pre = model.predict(x_test)\n",
    "    print((pre==y_test).mean())\n",
    "    print(mean_squared_error(pre,y_test))\n",
    "    return model"
   ]
  },
  {
   "cell_type": "code",
   "execution_count": null,
   "metadata": {},
   "outputs": [],
   "source": []
  },
  {
   "cell_type": "markdown",
   "metadata": {},
   "source": [
    "# 删除空值/不删除"
   ]
  },
  {
   "cell_type": "code",
   "execution_count": 4,
   "metadata": {},
   "outputs": [
    {
     "name": "stdout",
     "output_type": "stream",
     "text": [
      "{'learning_rate': 0.05, 'n_estimators': 60, 'num_leaves': 30}\n",
      "0.91844\n",
      "_*_*_*_*_*_*_*_*_*_*_*_*_*_*_*_*_*_*_*_*_*_*_*_*_*_*_*_*_*_*_*_*_*_*_*_*_*_*_*_*_*_*_*_*_*_*_*_*_*_*_*_*_*_*_*_*_*_*_*_*\n",
      "0.91724\n",
      "0.08276\n"
     ]
    }
   ],
   "source": [
    "def deal_data(text):\n",
    "    data = pd.read_csv(f'./final/{text}_final.csv')\n",
    "    data  =data.loc(axis=1)[~ data.isna().any()]\n",
    "    x = data\n",
    "    y = x.pop('loan_status')\n",
    "    return x,y\n",
    "\n",
    "mdeol = train_model_pre(deal_data)"
   ]
  },
  {
   "cell_type": "code",
   "execution_count": 5,
   "metadata": {},
   "outputs": [
    {
     "name": "stdout",
     "output_type": "stream",
     "text": [
      "{'learning_rate': 0.1, 'n_estimators': 40, 'num_leaves': 40}\n",
      "0.9193200000000001\n",
      "_*_*_*_*_*_*_*_*_*_*_*_*_*_*_*_*_*_*_*_*_*_*_*_*_*_*_*_*_*_*_*_*_*_*_*_*_*_*_*_*_*_*_*_*_*_*_*_*_*_*_*_*_*_*_*_*_*_*_*_*\n",
      "0.91694\n",
      "0.08306\n"
     ]
    }
   ],
   "source": [
    "def deal_data(text):\n",
    "    data = pd.read_csv(f'./final/{text}_final.csv')\n",
    "    x = data\n",
    "    y = x.pop('loan_status')\n",
    "    return x,y\n",
    "\n",
    "mdeol = train_model_pre(deal_data)"
   ]
  },
  {
   "cell_type": "markdown",
   "metadata": {},
   "source": [
    "# 将空值变成0,衍生一个是否是空值的Bool"
   ]
  },
  {
   "cell_type": "code",
   "execution_count": 6,
   "metadata": {},
   "outputs": [
    {
     "name": "stdout",
     "output_type": "stream",
     "text": [
      "{'learning_rate': 0.1, 'n_estimators': 40, 'num_leaves': 30}\n",
      "0.9191199999999998\n",
      "_*_*_*_*_*_*_*_*_*_*_*_*_*_*_*_*_*_*_*_*_*_*_*_*_*_*_*_*_*_*_*_*_*_*_*_*_*_*_*_*_*_*_*_*_*_*_*_*_*_*_*_*_*_*_*_*_*_*_*_*\n",
      "0.91778\n",
      "0.08222\n"
     ]
    }
   ],
   "source": [
    "def deal_data_2(text):\n",
    "    data = pd.read_csv(f'./final/{text}_final.csv')\n",
    "    data_na  =data.loc(axis=1)[data.isna().any()]\n",
    "    for column_na in data_na.columns:\n",
    "        data[f'{column_na}_nan'] = pd.get_dummies(data_na[column_na]).sum(axis=1)\n",
    "    data = data.fillna(0)\n",
    "    x = data\n",
    "    y = x.pop('loan_status')\n",
    "    return x,y\n",
    "\n",
    "mdeol2 = train_model_pre(deal_data_2)"
   ]
  },
  {
   "cell_type": "markdown",
   "metadata": {},
   "source": [
    "# 将比较的大的数值log"
   ]
  },
  {
   "cell_type": "code",
   "execution_count": 7,
   "metadata": {},
   "outputs": [
    {
     "name": "stdout",
     "output_type": "stream",
     "text": [
      "{'learning_rate': 0.1, 'n_estimators': 40, 'num_leaves': 30}\n",
      "0.9190999999999999\n",
      "_*_*_*_*_*_*_*_*_*_*_*_*_*_*_*_*_*_*_*_*_*_*_*_*_*_*_*_*_*_*_*_*_*_*_*_*_*_*_*_*_*_*_*_*_*_*_*_*_*_*_*_*_*_*_*_*_*_*_*_*\n",
      "0.91778\n",
      "0.08222\n"
     ]
    }
   ],
   "source": [
    "def deal_data_3(text):\n",
    "    data = pd.read_csv(f'./final/{text}_final.csv')\n",
    "    data_na  =data.loc(axis=1)[data.isna().any()]\n",
    "    for column_na in data_na.columns:\n",
    "        data[f'{column_na}_nan'] = 1-pd.get_dummies(data_na[column_na]).sum(axis=1)\n",
    "    data = data.fillna(0)\n",
    "    data_max=data.loc(axis=1)[data.max()>100]\n",
    "    for column_max in data_max.columns:\n",
    "        data[f'{column_max}_log'] = np.log(data[column_max]+1)\n",
    "    x = data\n",
    "    y = x.pop('loan_status')\n",
    "    return x,y\n",
    "\n",
    "mdeol3 = train_model_pre(deal_data_3)"
   ]
  },
  {
   "cell_type": "markdown",
   "metadata": {},
   "source": [
    "# 数据衍生"
   ]
  },
  {
   "cell_type": "code",
   "execution_count": 8,
   "metadata": {},
   "outputs": [
    {
     "name": "stdout",
     "output_type": "stream",
     "text": [
      "{'learning_rate': 0.1, 'n_estimators': 40, 'num_leaves': 30}\n",
      "0.9190999999999999\n",
      "_*_*_*_*_*_*_*_*_*_*_*_*_*_*_*_*_*_*_*_*_*_*_*_*_*_*_*_*_*_*_*_*_*_*_*_*_*_*_*_*_*_*_*_*_*_*_*_*_*_*_*_*_*_*_*_*_*_*_*_*\n",
      "0.91778\n",
      "0.08222\n"
     ]
    }
   ],
   "source": [
    "def deal_data_4(text):\n",
    "    data = pd.read_csv(f'./final/{text}_final.csv')\n",
    "    data_na  =data.loc(axis=1)[data.isna().any()]\n",
    "    for column_na in data_na.columns:\n",
    "        data[f'{column_na}_nan'] = 1-pd.get_dummies(data_na[column_na]).sum(axis=1)\n",
    "    data = data.fillna(0)\n",
    "    data_max=data.loc(axis=1)[data.max()>100]\n",
    "    for column_max in data_max.columns:\n",
    "        data[f'{column_max}_log'] = np.log(data[column_max]+1)\n",
    "        \n",
    "    \n",
    "    x = data\n",
    "    y = x.pop('loan_status')\n",
    "    return x,y\n",
    "\n",
    "mdeol4 = train_model_pre(deal_data_4)"
   ]
  },
  {
   "cell_type": "code",
   "execution_count": 9,
   "metadata": {},
   "outputs": [
    {
     "name": "stdout",
     "output_type": "stream",
     "text": [
      "{'learning_rate': 0.05, 'n_estimators': 60, 'num_leaves': 30}\n",
      "0.9190400000000001\n",
      "_*_*_*_*_*_*_*_*_*_*_*_*_*_*_*_*_*_*_*_*_*_*_*_*_*_*_*_*_*_*_*_*_*_*_*_*_*_*_*_*_*_*_*_*_*_*_*_*_*_*_*_*_*_*_*_*_*_*_*_*\n",
      "0.91742\n",
      "0.08258\n"
     ]
    }
   ],
   "source": [
    "def deal_data_5(text):\n",
    "    data = pd.read_csv(f'./final/{text}_final.csv')\n",
    "    \n",
    "\n",
    "    data['derive_1'] = data['continuous_fico_range_low']/data['continuous_fico_range_high']\n",
    "    data['derive_2'] = data['continuous_fico_range_low']/data['continuous_dti']\n",
    "    data['derive_3'] = data['continuous_fico_range_high']/data['continuous_dti']\n",
    "    x = data\n",
    "    y = x.pop('loan_status')\n",
    "    return x,y\n",
    "\n",
    "mdeol5 = train_model_pre(deal_data_5)"
   ]
  },
  {
   "cell_type": "code",
   "execution_count": 10,
   "metadata": {},
   "outputs": [
    {
     "name": "stdout",
     "output_type": "stream",
     "text": [
      "{'learning_rate': 0.1, 'n_estimators': 40, 'num_leaves': 30}\n",
      "0.91906\n",
      "_*_*_*_*_*_*_*_*_*_*_*_*_*_*_*_*_*_*_*_*_*_*_*_*_*_*_*_*_*_*_*_*_*_*_*_*_*_*_*_*_*_*_*_*_*_*_*_*_*_*_*_*_*_*_*_*_*_*_*_*\n",
      "0.91786\n",
      "0.08214\n"
     ]
    }
   ],
   "source": [
    "def deal_data_6(text):\n",
    "    data = pd.read_csv(f'./final/{text}_final.csv')\n",
    "    \n",
    "    data['derive_1'] = data['continuous_fico_range_low']/data['continuous_fico_range_high']\n",
    "    data['derive_2'] = data['continuous_fico_range_low']/data['continuous_dti']\n",
    "    data['derive_3'] = data['continuous_fico_range_high']/data['continuous_dti']\n",
    "    data['derive_4'] = data['continuous_funded_amnt_inv']/data['continuous_funded_amnt']/data['continuous_inq_last_6mths']\n",
    "\n",
    "    x = data\n",
    "    y = x.pop('loan_status')\n",
    "    return x,y\n",
    "\n",
    "mdeol6 = train_model_pre(deal_data_6)"
   ]
  },
  {
   "cell_type": "code",
   "execution_count": 11,
   "metadata": {},
   "outputs": [
    {
     "name": "stdout",
     "output_type": "stream",
     "text": [
      "{'learning_rate': 0.1, 'n_estimators': 40, 'num_leaves': 30}\n",
      "0.9192600000000001\n",
      "_*_*_*_*_*_*_*_*_*_*_*_*_*_*_*_*_*_*_*_*_*_*_*_*_*_*_*_*_*_*_*_*_*_*_*_*_*_*_*_*_*_*_*_*_*_*_*_*_*_*_*_*_*_*_*_*_*_*_*_*\n",
      "0.91752\n",
      "0.08248\n"
     ]
    }
   ],
   "source": [
    "def deal_data_7(text):\n",
    "    data = pd.read_csv(f'./final/{text}_final.csv')\n",
    "    \n",
    "    data['derive_1'] = data['continuous_fico_range_low']/data['continuous_fico_range_high']\n",
    "    data['derive_2'] = data['continuous_fico_range_low']/data['continuous_dti']\n",
    "    data['derive_3'] = data['continuous_fico_range_high']/data['continuous_dti']\n",
    "    data['derive_4'] = data['continuous_funded_amnt_inv']/data['continuous_funded_amnt']/data['continuous_inq_last_6mths']\n",
    "    data['derive_5'] = np.log(data['continuous_pub_rec']/data['continuous_open_acc']+1)\n",
    "\n",
    "    x = data\n",
    "    y = x.pop('loan_status')\n",
    "    return x,y\n",
    "\n",
    "mdeol7 = train_model_pre(deal_data_7)"
   ]
  },
  {
   "cell_type": "code",
   "execution_count": 12,
   "metadata": {},
   "outputs": [
    {
     "name": "stdout",
     "output_type": "stream",
     "text": [
      "{'learning_rate': 0.05, 'n_estimators': 60, 'num_leaves': 30}\n",
      "0.9196799999999999\n",
      "_*_*_*_*_*_*_*_*_*_*_*_*_*_*_*_*_*_*_*_*_*_*_*_*_*_*_*_*_*_*_*_*_*_*_*_*_*_*_*_*_*_*_*_*_*_*_*_*_*_*_*_*_*_*_*_*_*_*_*_*\n",
      "0.91762\n",
      "0.08238\n"
     ]
    }
   ],
   "source": [
    "def deal_data_8(text):\n",
    "    data = pd.read_csv(f'./final/{text}_final.csv')\n",
    "    data_na  =data.loc(axis=1)[data.isna().any()]\n",
    "    for column_na in data_na.columns:\n",
    "        data[f'{column_na}_nan'] = 1-pd.get_dummies(data_na[column_na]).sum(axis=1)\n",
    "    data = data.fillna(0)\n",
    "    data_max=data.loc(axis=1)[data.max()>100]\n",
    "    for column_max in data_max.columns:\n",
    "        data[f'{column_max}_log'] = np.log(data[column_max]+1)\n",
    "    data['derive_1'] = data['continuous_fico_range_low']/data['continuous_fico_range_high']\n",
    "    data['derive_2'] = data['continuous_fico_range_low']/data['continuous_dti']\n",
    "    data['derive_3'] = data['continuous_fico_range_high']/data['continuous_dti']\n",
    "#     data['derive_4'] = data['continuous_funded_amnt_inv']/data['continuous_funded_amnt']/data['continuous_inq_last_6mths']\n",
    "\n",
    "    x = data\n",
    "    y = x.pop('loan_status')\n",
    "    return x,y\n",
    "\n",
    "mdeol8 = train_model_pre(deal_data_8)"
   ]
  },
  {
   "cell_type": "markdown",
   "metadata": {},
   "source": [
    "# 总结"
   ]
  },
  {
   "cell_type": "code",
   "execution_count": 13,
   "metadata": {},
   "outputs": [
    {
     "name": "stdout",
     "output_type": "stream",
     "text": [
      "{'learning_rate': 0.1, 'n_estimators': 40, 'num_leaves': 30}\n",
      "0.91906\n",
      "_*_*_*_*_*_*_*_*_*_*_*_*_*_*_*_*_*_*_*_*_*_*_*_*_*_*_*_*_*_*_*_*_*_*_*_*_*_*_*_*_*_*_*_*_*_*_*_*_*_*_*_*_*_*_*_*_*_*_*_*\n",
      "0.91786\n",
      "0.08214\n"
     ]
    }
   ],
   "source": [
    "def deal_data_best(text):\n",
    "    data = pd.read_csv(f'./final/{text}_final.csv')\n",
    "    \n",
    "    data['derive_1'] = data['continuous_fico_range_low']/data['continuous_fico_range_high']\n",
    "    data['derive_2'] = data['continuous_fico_range_low']/data['continuous_dti']\n",
    "    data['derive_3'] = data['continuous_fico_range_high']/data['continuous_dti']\n",
    "    data['derive_4'] = data['continuous_funded_amnt_inv']/data['continuous_funded_amnt']/data['continuous_inq_last_6mths']\n",
    "\n",
    "    x = data\n",
    "    y = x.pop('loan_status')\n",
    "    return x,y\n",
    "\n",
    "mdeolbest = train_model_pre(deal_data_best)"
   ]
  },
  {
   "cell_type": "code",
   "execution_count": null,
   "metadata": {},
   "outputs": [],
   "source": []
  },
  {
   "cell_type": "code",
   "execution_count": 14,
   "metadata": {},
   "outputs": [],
   "source": [
    "data = pd.read_csv(f'./final/{\"train\"}_final.csv')"
   ]
  },
  {
   "cell_type": "code",
   "execution_count": 15,
   "metadata": {},
   "outputs": [
    {
     "data": {
      "text/html": [
       "<div>\n",
       "<style scoped>\n",
       "    .dataframe tbody tr th:only-of-type {\n",
       "        vertical-align: middle;\n",
       "    }\n",
       "\n",
       "    .dataframe tbody tr th {\n",
       "        vertical-align: top;\n",
       "    }\n",
       "\n",
       "    .dataframe thead th {\n",
       "        text-align: right;\n",
       "    }\n",
       "</style>\n",
       "<table border=\"1\" class=\"dataframe\">\n",
       "  <thead>\n",
       "    <tr style=\"text-align: right;\">\n",
       "      <th></th>\n",
       "      <th>continuous_annual_inc</th>\n",
       "      <th>continuous_annual_inc_joint</th>\n",
       "      <th>continuous_delinq_2yrs</th>\n",
       "      <th>continuous_dti</th>\n",
       "      <th>continuous_dti_joint</th>\n",
       "      <th>continuous_fico_range_high</th>\n",
       "      <th>continuous_fico_range_low</th>\n",
       "      <th>continuous_funded_amnt</th>\n",
       "      <th>continuous_funded_amnt_inv</th>\n",
       "      <th>continuous_inq_last_6mths</th>\n",
       "      <th>continuous_installment</th>\n",
       "      <th>continuous_int_rate</th>\n",
       "    </tr>\n",
       "  </thead>\n",
       "  <tbody>\n",
       "    <tr>\n",
       "      <th>count</th>\n",
       "      <td>5.000000e+04</td>\n",
       "      <td>220.000000</td>\n",
       "      <td>50000.00000</td>\n",
       "      <td>49999.000000</td>\n",
       "      <td>220.000000</td>\n",
       "      <td>50000.000000</td>\n",
       "      <td>50000.000000</td>\n",
       "      <td>50000.00000</td>\n",
       "      <td>50000.000000</td>\n",
       "      <td>50000.000000</td>\n",
       "      <td>50000.000000</td>\n",
       "      <td>50000.000000</td>\n",
       "    </tr>\n",
       "    <tr>\n",
       "      <th>mean</th>\n",
       "      <td>7.835886e+04</td>\n",
       "      <td>109248.802545</td>\n",
       "      <td>0.34738</td>\n",
       "      <td>19.080239</td>\n",
       "      <td>18.831864</td>\n",
       "      <td>698.404460</td>\n",
       "      <td>694.404300</td>\n",
       "      <td>14332.53650</td>\n",
       "      <td>14325.533000</td>\n",
       "      <td>0.620820</td>\n",
       "      <td>428.892109</td>\n",
       "      <td>11.986125</td>\n",
       "    </tr>\n",
       "    <tr>\n",
       "      <th>std</th>\n",
       "      <td>9.783053e+04</td>\n",
       "      <td>52319.230212</td>\n",
       "      <td>0.91874</td>\n",
       "      <td>9.802002</td>\n",
       "      <td>7.586033</td>\n",
       "      <td>31.180915</td>\n",
       "      <td>31.180139</td>\n",
       "      <td>8617.58487</td>\n",
       "      <td>8612.853833</td>\n",
       "      <td>0.906035</td>\n",
       "      <td>254.569184</td>\n",
       "      <td>4.182402</td>\n",
       "    </tr>\n",
       "    <tr>\n",
       "      <th>min</th>\n",
       "      <td>0.000000e+00</td>\n",
       "      <td>28000.000000</td>\n",
       "      <td>0.00000</td>\n",
       "      <td>0.000000</td>\n",
       "      <td>3.000000</td>\n",
       "      <td>664.000000</td>\n",
       "      <td>660.000000</td>\n",
       "      <td>1000.00000</td>\n",
       "      <td>950.000000</td>\n",
       "      <td>0.000000</td>\n",
       "      <td>14.770000</td>\n",
       "      <td>5.320000</td>\n",
       "    </tr>\n",
       "    <tr>\n",
       "      <th>25%</th>\n",
       "      <td>4.700000e+04</td>\n",
       "      <td>76000.000000</td>\n",
       "      <td>0.00000</td>\n",
       "      <td>12.410000</td>\n",
       "      <td>13.805000</td>\n",
       "      <td>674.000000</td>\n",
       "      <td>670.000000</td>\n",
       "      <td>7775.00000</td>\n",
       "      <td>7750.000000</td>\n",
       "      <td>0.000000</td>\n",
       "      <td>244.242500</td>\n",
       "      <td>9.170000</td>\n",
       "    </tr>\n",
       "    <tr>\n",
       "      <th>50%</th>\n",
       "      <td>6.500000e+04</td>\n",
       "      <td>99000.000000</td>\n",
       "      <td>0.00000</td>\n",
       "      <td>18.520000</td>\n",
       "      <td>17.940000</td>\n",
       "      <td>689.000000</td>\n",
       "      <td>685.000000</td>\n",
       "      <td>12000.00000</td>\n",
       "      <td>12000.000000</td>\n",
       "      <td>0.000000</td>\n",
       "      <td>369.520000</td>\n",
       "      <td>11.490000</td>\n",
       "    </tr>\n",
       "    <tr>\n",
       "      <th>75%</th>\n",
       "      <td>9.400000e+04</td>\n",
       "      <td>132700.000000</td>\n",
       "      <td>0.00000</td>\n",
       "      <td>25.320000</td>\n",
       "      <td>23.477500</td>\n",
       "      <td>714.000000</td>\n",
       "      <td>710.000000</td>\n",
       "      <td>20000.00000</td>\n",
       "      <td>20000.000000</td>\n",
       "      <td>1.000000</td>\n",
       "      <td>572.850000</td>\n",
       "      <td>14.330000</td>\n",
       "    </tr>\n",
       "    <tr>\n",
       "      <th>max</th>\n",
       "      <td>9.000000e+06</td>\n",
       "      <td>500000.000000</td>\n",
       "      <td>15.00000</td>\n",
       "      <td>999.000000</td>\n",
       "      <td>43.860000</td>\n",
       "      <td>850.000000</td>\n",
       "      <td>845.000000</td>\n",
       "      <td>35000.00000</td>\n",
       "      <td>35000.000000</td>\n",
       "      <td>5.000000</td>\n",
       "      <td>1354.660000</td>\n",
       "      <td>28.990000</td>\n",
       "    </tr>\n",
       "  </tbody>\n",
       "</table>\n",
       "</div>"
      ],
      "text/plain": [
       "       continuous_annual_inc  continuous_annual_inc_joint  \\\n",
       "count           5.000000e+04                   220.000000   \n",
       "mean            7.835886e+04                109248.802545   \n",
       "std             9.783053e+04                 52319.230212   \n",
       "min             0.000000e+00                 28000.000000   \n",
       "25%             4.700000e+04                 76000.000000   \n",
       "50%             6.500000e+04                 99000.000000   \n",
       "75%             9.400000e+04                132700.000000   \n",
       "max             9.000000e+06                500000.000000   \n",
       "\n",
       "       continuous_delinq_2yrs  continuous_dti  continuous_dti_joint  \\\n",
       "count             50000.00000    49999.000000            220.000000   \n",
       "mean                  0.34738       19.080239             18.831864   \n",
       "std                   0.91874        9.802002              7.586033   \n",
       "min                   0.00000        0.000000              3.000000   \n",
       "25%                   0.00000       12.410000             13.805000   \n",
       "50%                   0.00000       18.520000             17.940000   \n",
       "75%                   0.00000       25.320000             23.477500   \n",
       "max                  15.00000      999.000000             43.860000   \n",
       "\n",
       "       continuous_fico_range_high  continuous_fico_range_low  \\\n",
       "count                50000.000000               50000.000000   \n",
       "mean                   698.404460                 694.404300   \n",
       "std                     31.180915                  31.180139   \n",
       "min                    664.000000                 660.000000   \n",
       "25%                    674.000000                 670.000000   \n",
       "50%                    689.000000                 685.000000   \n",
       "75%                    714.000000                 710.000000   \n",
       "max                    850.000000                 845.000000   \n",
       "\n",
       "       continuous_funded_amnt  continuous_funded_amnt_inv  \\\n",
       "count             50000.00000                50000.000000   \n",
       "mean              14332.53650                14325.533000   \n",
       "std                8617.58487                 8612.853833   \n",
       "min                1000.00000                  950.000000   \n",
       "25%                7775.00000                 7750.000000   \n",
       "50%               12000.00000                12000.000000   \n",
       "75%               20000.00000                20000.000000   \n",
       "max               35000.00000                35000.000000   \n",
       "\n",
       "       continuous_inq_last_6mths  continuous_installment  continuous_int_rate  \n",
       "count               50000.000000            50000.000000         50000.000000  \n",
       "mean                    0.620820              428.892109            11.986125  \n",
       "std                     0.906035              254.569184             4.182402  \n",
       "min                     0.000000               14.770000             5.320000  \n",
       "25%                     0.000000              244.242500             9.170000  \n",
       "50%                     0.000000              369.520000            11.490000  \n",
       "75%                     1.000000              572.850000            14.330000  \n",
       "max                     5.000000             1354.660000            28.990000  "
      ]
     },
     "execution_count": 15,
     "metadata": {},
     "output_type": "execute_result"
    }
   ],
   "source": [
    "data[['continuous_annual_inc', 'continuous_annual_inc_joint',\n",
    "       'continuous_delinq_2yrs', 'continuous_dti', 'continuous_dti_joint',\n",
    "       'continuous_fico_range_high', 'continuous_fico_range_low',\n",
    "       'continuous_funded_amnt', 'continuous_funded_amnt_inv',\n",
    "       'continuous_inq_last_6mths', 'continuous_installment',\n",
    "       'continuous_int_rate']].describe()"
   ]
  },
  {
   "cell_type": "code",
   "execution_count": 16,
   "metadata": {},
   "outputs": [
    {
     "data": {
      "text/html": [
       "<div>\n",
       "<style scoped>\n",
       "    .dataframe tbody tr th:only-of-type {\n",
       "        vertical-align: middle;\n",
       "    }\n",
       "\n",
       "    .dataframe tbody tr th {\n",
       "        vertical-align: top;\n",
       "    }\n",
       "\n",
       "    .dataframe thead th {\n",
       "        text-align: right;\n",
       "    }\n",
       "</style>\n",
       "<table border=\"1\" class=\"dataframe\">\n",
       "  <thead>\n",
       "    <tr style=\"text-align: right;\">\n",
       "      <th></th>\n",
       "      <th>continuous_last_fico_range_high</th>\n",
       "      <th>continuous_last_fico_range_low</th>\n",
       "      <th>continuous_loan_amnt</th>\n",
       "      <th>loan_status</th>\n",
       "      <th>continuous_mths_since_last_delinq</th>\n",
       "      <th>continuous_mths_since_last_major_derog</th>\n",
       "      <th>continuous_mths_since_last_record</th>\n",
       "      <th>continuous_open_acc</th>\n",
       "      <th>continuous_pub_rec</th>\n",
       "    </tr>\n",
       "  </thead>\n",
       "  <tbody>\n",
       "    <tr>\n",
       "      <th>count</th>\n",
       "      <td>50000.000000</td>\n",
       "      <td>50000.000000</td>\n",
       "      <td>50000.00000</td>\n",
       "      <td>50000.000000</td>\n",
       "      <td>26083.000000</td>\n",
       "      <td>15052.000000</td>\n",
       "      <td>9495.000000</td>\n",
       "      <td>50000.000000</td>\n",
       "      <td>50000.000000</td>\n",
       "    </tr>\n",
       "    <tr>\n",
       "      <th>mean</th>\n",
       "      <td>675.644860</td>\n",
       "      <td>658.428400</td>\n",
       "      <td>14332.53650</td>\n",
       "      <td>0.795760</td>\n",
       "      <td>34.197485</td>\n",
       "      <td>44.214589</td>\n",
       "      <td>65.500790</td>\n",
       "      <td>11.944960</td>\n",
       "      <td>0.252820</td>\n",
       "    </tr>\n",
       "    <tr>\n",
       "      <th>std</th>\n",
       "      <td>81.571458</td>\n",
       "      <td>133.005552</td>\n",
       "      <td>8617.58487</td>\n",
       "      <td>0.403149</td>\n",
       "      <td>21.828204</td>\n",
       "      <td>21.352291</td>\n",
       "      <td>23.659021</td>\n",
       "      <td>5.676976</td>\n",
       "      <td>0.665455</td>\n",
       "    </tr>\n",
       "    <tr>\n",
       "      <th>min</th>\n",
       "      <td>0.000000</td>\n",
       "      <td>0.000000</td>\n",
       "      <td>1000.00000</td>\n",
       "      <td>0.000000</td>\n",
       "      <td>0.000000</td>\n",
       "      <td>0.000000</td>\n",
       "      <td>0.000000</td>\n",
       "      <td>1.000000</td>\n",
       "      <td>0.000000</td>\n",
       "    </tr>\n",
       "    <tr>\n",
       "      <th>25%</th>\n",
       "      <td>624.000000</td>\n",
       "      <td>620.000000</td>\n",
       "      <td>7775.00000</td>\n",
       "      <td>1.000000</td>\n",
       "      <td>16.000000</td>\n",
       "      <td>27.000000</td>\n",
       "      <td>51.000000</td>\n",
       "      <td>8.000000</td>\n",
       "      <td>0.000000</td>\n",
       "    </tr>\n",
       "    <tr>\n",
       "      <th>50%</th>\n",
       "      <td>689.000000</td>\n",
       "      <td>685.000000</td>\n",
       "      <td>12000.00000</td>\n",
       "      <td>1.000000</td>\n",
       "      <td>31.000000</td>\n",
       "      <td>44.000000</td>\n",
       "      <td>67.000000</td>\n",
       "      <td>11.000000</td>\n",
       "      <td>0.000000</td>\n",
       "    </tr>\n",
       "    <tr>\n",
       "      <th>75%</th>\n",
       "      <td>734.000000</td>\n",
       "      <td>730.000000</td>\n",
       "      <td>20000.00000</td>\n",
       "      <td>1.000000</td>\n",
       "      <td>50.000000</td>\n",
       "      <td>63.000000</td>\n",
       "      <td>81.000000</td>\n",
       "      <td>15.000000</td>\n",
       "      <td>0.000000</td>\n",
       "    </tr>\n",
       "    <tr>\n",
       "      <th>max</th>\n",
       "      <td>850.000000</td>\n",
       "      <td>845.000000</td>\n",
       "      <td>35000.00000</td>\n",
       "      <td>1.000000</td>\n",
       "      <td>152.000000</td>\n",
       "      <td>152.000000</td>\n",
       "      <td>120.000000</td>\n",
       "      <td>67.000000</td>\n",
       "      <td>23.000000</td>\n",
       "    </tr>\n",
       "  </tbody>\n",
       "</table>\n",
       "</div>"
      ],
      "text/plain": [
       "       continuous_last_fico_range_high  continuous_last_fico_range_low  \\\n",
       "count                     50000.000000                    50000.000000   \n",
       "mean                        675.644860                      658.428400   \n",
       "std                          81.571458                      133.005552   \n",
       "min                           0.000000                        0.000000   \n",
       "25%                         624.000000                      620.000000   \n",
       "50%                         689.000000                      685.000000   \n",
       "75%                         734.000000                      730.000000   \n",
       "max                         850.000000                      845.000000   \n",
       "\n",
       "       continuous_loan_amnt   loan_status  continuous_mths_since_last_delinq  \\\n",
       "count           50000.00000  50000.000000                       26083.000000   \n",
       "mean            14332.53650      0.795760                          34.197485   \n",
       "std              8617.58487      0.403149                          21.828204   \n",
       "min              1000.00000      0.000000                           0.000000   \n",
       "25%              7775.00000      1.000000                          16.000000   \n",
       "50%             12000.00000      1.000000                          31.000000   \n",
       "75%             20000.00000      1.000000                          50.000000   \n",
       "max             35000.00000      1.000000                         152.000000   \n",
       "\n",
       "       continuous_mths_since_last_major_derog  \\\n",
       "count                            15052.000000   \n",
       "mean                                44.214589   \n",
       "std                                 21.352291   \n",
       "min                                  0.000000   \n",
       "25%                                 27.000000   \n",
       "50%                                 44.000000   \n",
       "75%                                 63.000000   \n",
       "max                                152.000000   \n",
       "\n",
       "       continuous_mths_since_last_record  continuous_open_acc  \\\n",
       "count                        9495.000000         50000.000000   \n",
       "mean                           65.500790            11.944960   \n",
       "std                            23.659021             5.676976   \n",
       "min                             0.000000             1.000000   \n",
       "25%                            51.000000             8.000000   \n",
       "50%                            67.000000            11.000000   \n",
       "75%                            81.000000            15.000000   \n",
       "max                           120.000000            67.000000   \n",
       "\n",
       "       continuous_pub_rec  \n",
       "count        50000.000000  \n",
       "mean             0.252820  \n",
       "std              0.665455  \n",
       "min              0.000000  \n",
       "25%              0.000000  \n",
       "50%              0.000000  \n",
       "75%              0.000000  \n",
       "max             23.000000  "
      ]
     },
     "execution_count": 16,
     "metadata": {},
     "output_type": "execute_result"
    }
   ],
   "source": [
    "data[['continuous_last_fico_range_high',\n",
    "       'continuous_last_fico_range_low', 'continuous_loan_amnt',\n",
    "       'loan_status', 'continuous_mths_since_last_delinq',\n",
    "       'continuous_mths_since_last_major_derog',\n",
    "       'continuous_mths_since_last_record', 'continuous_open_acc',\n",
    "       'continuous_pub_rec',]].describe()"
   ]
  },
  {
   "cell_type": "code",
   "execution_count": null,
   "metadata": {},
   "outputs": [],
   "source": []
  },
  {
   "cell_type": "code",
   "execution_count": null,
   "metadata": {},
   "outputs": [],
   "source": []
  }
 ],
 "metadata": {
  "kernelspec": {
   "display_name": "Python 3",
   "language": "python",
   "name": "python3"
  },
  "language_info": {
   "codemirror_mode": {
    "name": "ipython",
    "version": 3
   },
   "file_extension": ".py",
   "mimetype": "text/x-python",
   "name": "python",
   "nbconvert_exporter": "python",
   "pygments_lexer": "ipython3",
   "version": "3.7.7"
  }
 },
 "nbformat": 4,
 "nbformat_minor": 4
}
